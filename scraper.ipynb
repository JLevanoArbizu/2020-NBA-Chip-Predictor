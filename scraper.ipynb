{
 "cells": [
  {
   "cell_type": "code",
   "execution_count": null,
   "metadata": {},
   "outputs": [],
   "source": [
    "import pandas as pd\n",
    "import numpy as np\n",
    "import requests\n",
    "from bs4 import BeautifulSoup\n",
    "\n",
    "champ_url_tags =['TOR/2019',\n",
    "                        'GSW/2018',\n",
    "                        'GSW/2017',\n",
    "                        'CLE/2016',\n",
    "                        'GSW/2015',\n",
    "                        'SAS/2014',\n",
    "                        'MIA/2013',\n",
    "                        'MIA/2012',\n",
    "                        'DAL/2011',\n",
    "                        'LAL/2010',\n",
    "                        'LAL/2009',\n",
    "                        'BOS/2008',\n",
    "                        'SAS/2007',\n",
    "                        'MIA/2006',\n",
    "                        'SAS/2005']\n",
    "\n",
    "#testing out with only 2019 raptors df for now\n",
    "#toa abbreviation of 'team and opponents'\n",
    "toa_url = 'https://widgets.sports-reference.com/wg.fcgi?css=1&site=bbr&url=%2Fteams%2FTOR%2F2019.html&div=div_team_and_opponent'\n",
    "toa_html = requests.get(toa_url)\n",
    "toa_soup = BeautifulSoup(toa_html.content, 'html.parser')\n",
    "toa_table = toa_soup.find('table')\n",
    "toa_df = pd.read_html(str(toa_table))[0].drop(columns=['G','MP']).drop([0,3,4,7]).reset_index().drop(columns='index').replace(\n",
    "    {'Team/G':'Team'}).replace({'Opponent/G':'Opponent'}).rename(columns={'Unnamed: 0':'Metric'}).drop(columns='FG')\n",
    "toa_df.at[1,'Metric'] = 'Team Lg Rank'\n",
    "toa_df.at[3,'Metric'] = 'Opponent Lg Rank'\n",
    "\n",
    "#misc abbreviation of 'team misc'\n",
    "misc_url = 'https://widgets.sports-reference.com/wg.fcgi?css=1&site=bbr&url=%2Fteams%2FTOR%2F2019.html&div=div_team_misc'\n",
    "misc_html = requests.get(misc_url)\n",
    "misc_soup = BeautifulSoup(misc_html.content, 'html.parser')\n",
    "misc_table = misc_soup.find('table')\n",
    "misc_df = pd.read_html(str(misc_table),header=1)[0].rename(columns={'Unnamed: 0':'Metric'})\n",
    "misc_df.at[1,'Metric'] = 'Team Lg Rank'\n",
    "\n",
    "left = toa_df.set_index('Metric')\n",
    "right = misc_df.set_index('Metric')\n",
    "df = left.join(right).drop(columns=['Arena'])\n",
    "print(df)"
   ]
  }
 ],
 "metadata": {
  "kernelspec": {
   "display_name": "Python 3",
   "language": "python",
   "name": "python3"
  },
  "language_info": {
   "codemirror_mode": {
    "name": "ipython",
    "version": 3
   },
   "file_extension": ".py",
   "mimetype": "text/x-python",
   "name": "python",
   "nbconvert_exporter": "python",
   "pygments_lexer": "ipython3",
   "version": "3.7.6"
  }
 },
 "nbformat": 4,
 "nbformat_minor": 4
}
